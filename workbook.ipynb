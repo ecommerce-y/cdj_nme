{
 "cells": [
  {
   "cell_type": "markdown",
   "id": "4a12fb67",
   "metadata": {},
   "source": [
    "Ethan Yang, ey283"
   ]
  }
 ],
 "metadata": {
  "kernelspec": {
   "display_name": "datajournal",
   "language": "python",
   "name": "python3"
  },
  "language_info": {
   "name": "python",
   "version": "3.13.7"
  }
 },
 "nbformat": 4,
 "nbformat_minor": 5
}
